{
 "cells": [
  {
   "cell_type": "markdown",
   "metadata": {},
   "source": [
    "# DIGI405-20S1 - Topic Modeling TED.com transcripts\n",
    "\n",
    "This notebook introduces Gensim for topic modeling. The 2018 TED.com transcripts are also available for download on the datasets page on Learn if you wish to train models using TMT.\n",
    "\n",
    "Work through the notebook. The key things to do are:\n",
    "1. to try training some different size models (e.g. 10 topics, 30 topics, 50 topics);  \n",
    "2. to explore the topic assignments for documents and assess the quality of topics returned; \n",
    "3. to measure 'c_v' topic coherence for a number of models;\n",
    "3. to make notes on your observations of different models and the kinds of similarities between documents they produce.\n",
    "\n",
    "Since we need to evaluate topic models against a use case - think about the idea of a recommendation engine: what model performs best for finding similiar TED talks?"
   ]
  },
  {
   "cell_type": "code",
   "execution_count": 1,
   "metadata": {},
   "outputs": [],
   "source": [
    "import gensim\n",
    "import gensim.corpora as corpora\n",
    "from gensim.utils import simple_preprocess\n",
    "from gensim.models.wrappers import LdaMallet\n",
    "from gensim.models.coherencemodel import CoherenceModel\n",
    "from gensim import similarities\n",
    "\n",
    "import os.path\n",
    "import re\n",
    "import glob\n",
    "\n",
    "import pandas as pd\n",
    "import matplotlib.pyplot as plt\n",
    "\n",
    "mallet_path = '/opt/mallet-2.0.8/bin/mallet' # this should be the correct path for the DIGI405 lab workrooms"
   ]
  },
  {
   "cell_type": "code",
   "execution_count": 2,
   "metadata": {},
   "outputs": [
    {
     "name": "stderr",
     "output_type": "stream",
     "text": [
      "[nltk_data] Downloading package stopwords to\n",
      "[nltk_data]     /homedirs/tmn52/nltk_data...\n",
      "[nltk_data]   Package stopwords is already up-to-date!\n"
     ]
    }
   ],
   "source": [
    "# to install nltk run this in Anaconda prompt: pip install nltk \n",
    "# note if you get an error with stopwords below then uncomment the following lines and rerun this cell \n",
    "import nltk\n",
    "nltk.download('stopwords')\n",
    "\n",
    "from nltk.tokenize import RegexpTokenizer\n",
    "from nltk.corpus import stopwords"
   ]
  },
  {
   "cell_type": "markdown",
   "metadata": {},
   "source": [
    "The following cells contain functions to load a corpus from a directory of text files, preprocess the corpus and create the bag of words document-term matrix. "
   ]
  },
  {
   "cell_type": "code",
   "execution_count": 3,
   "metadata": {},
   "outputs": [],
   "source": [
    "def load_data_from_dir(path):\n",
    "    file_list = glob.glob(path + '/*.txt')\n",
    "\n",
    "    # create document list:\n",
    "    documents_list = []\n",
    "    source_list = []\n",
    "    for filename in file_list:\n",
    "        with open(filename, 'r', encoding='utf8') as f:\n",
    "            text = f.read()\n",
    "            f.close()\n",
    "            documents_list.append(text)\n",
    "            source_list.append(os.path.basename(filename))\n",
    "    print(\"Total Number of Documents:\",len(documents_list))\n",
    "    return documents_list, source_list\n"
   ]
  },
  {
   "cell_type": "code",
   "execution_count": 4,
   "metadata": {},
   "outputs": [],
   "source": [
    "def preprocess_data(doc_set,extra_stopwords = {}):\n",
    "    # adapted from https://www.datacamp.com/community/tutorials/discovering-hidden-topics-python\n",
    "    # replace all newlines or multiple sequences of spaces with a standard space\n",
    "    doc_set = [re.sub('\\s+', ' ', doc) for doc in doc_set]\n",
    "    # initialize regex tokenizer\n",
    "    tokenizer = RegexpTokenizer(r'\\w+')\n",
    "    # create English stop words list\n",
    "    en_stop = set(stopwords.words('english'))\n",
    "    # add any extra stopwords\n",
    "    if (len(extra_stopwords) > 0):\n",
    "        en_stop = en_stop.union(extra_stopwords)\n",
    "    \n",
    "    # list for tokenized documents in loop\n",
    "    texts = []\n",
    "    # loop through document list\n",
    "    for i in doc_set:\n",
    "        # clean and tokenize document string\n",
    "        raw = i.lower()\n",
    "        tokens = tokenizer.tokenize(raw)\n",
    "        # remove stop words from tokens\n",
    "        stopped_tokens = [i for i in tokens if not i in en_stop]\n",
    "        # add tokens to list\n",
    "        texts.append(stopped_tokens)\n",
    "    return texts"
   ]
  },
  {
   "cell_type": "code",
   "execution_count": 5,
   "metadata": {},
   "outputs": [],
   "source": [
    "def prepare_corpus(doc_clean):\n",
    "    # adapted from https://www.datacamp.com/community/tutorials/discovering-hidden-topics-python\n",
    "    # Creating the term dictionary of our courpus, where every unique term is assigned an index. dictionary = corpora.Dictionary(doc_clean)\n",
    "    dictionary = corpora.Dictionary(doc_clean)\n",
    "    \n",
    "    dictionary.filter_extremes(no_below=5, no_above=0.5)\n",
    "    # Converting list of documents (corpus) into Document Term Matrix using dictionary prepared above.\n",
    "    doc_term_matrix = [dictionary.doc2bow(doc) for doc in doc_clean]\n",
    "\n",
    "    return dictionary,doc_term_matrix"
   ]
  },
  {
   "cell_type": "markdown",
   "metadata": {},
   "source": [
    "## Load and pre-process the corpus\n",
    "Load the corpus, preprocess with additional stop words and output dictionary and document-term matrix."
   ]
  },
  {
   "cell_type": "code",
   "execution_count": 6,
   "metadata": {},
   "outputs": [
    {
     "name": "stdout",
     "output_type": "stream",
     "text": [
      "Total Number of Documents: 3603\n"
     ]
    }
   ],
   "source": [
    "# adjust the path below to wherever you have the transcripts2018 folder\n",
    "document_list, source_list = load_data_from_dir(\"transcripts/\")\n",
    "\n",
    "# I've added extra stopwords here in addition to NLTK's stopword list - you could look at adding others.\n",
    "doc_clean = preprocess_data(document_list,{'laughter','applause', 'space', 'love', '000', 'ca'})\n",
    "\n",
    "dictionary, doc_term_matrix = prepare_corpus(doc_clean)"
   ]
  },
  {
   "cell_type": "markdown",
   "metadata": {},
   "source": [
    "## Test a range of topic sizes and plot the results"
   ]
  },
  {
   "cell_type": "markdown",
   "metadata": {},
   "source": [
    "**Important**: this process will take a while to run! Make sure you have tried a number topic sizes to get a sense of what models you need to test. I suggest you test no more than 8-10 models using the code below, so as not to be waiting too long!"
   ]
  },
  {
   "cell_type": "code",
   "execution_count": 7,
   "metadata": {},
   "outputs": [],
   "source": [
    "# supply values for k and the interval, eg 20, 60, 10 will train models for 20, 30, 40, 50, and 60 topics\n",
    "min_k = 20\n",
    "max_k = 60\n",
    "intervals = 5\n",
    "\n",
    "coherences = {}\n",
    "ldamalletmodel_list = []\n",
    "gensimmodel_list = []\n",
    "\n",
    "for i in range(min_k, max_k, intervals):\n",
    "    ldamalletmodel = LdaMallet(mallet_path, corpus=doc_term_matrix, num_topics=i, id2word=dictionary)\n",
    "    ldamalletmodel_list.append(ldamalletmodel)\n",
    "    gensimmodel = gensim.models.wrappers.ldamallet.malletmodel2ldamodel(ldamalletmodel)\n",
    "    gensimmodel_list.append(gensimmodel)\n",
    "    coherences[i] = CoherenceModel(model=gensimmodel, texts=doc_clean, dictionary=dictionary, coherence='c_v').get_coherence()"
   ]
  },
  {
   "cell_type": "code",
   "execution_count": 8,
   "metadata": {},
   "outputs": [],
   "source": [
    "# convert the coherence scores to a pandas dataframe\n",
    "df = pd.DataFrame.from_dict(coherences, orient='index', columns=['Coherence'])\n",
    "df['Topics'] = df.index"
   ]
  },
  {
   "cell_type": "code",
   "execution_count": 9,
   "metadata": {},
   "outputs": [
    {
     "data": {
      "text/plain": [
       "<matplotlib.axes._subplots.AxesSubplot at 0x7f61d487b150>"
      ]
     },
     "execution_count": 9,
     "metadata": {},
     "output_type": "execute_result"
    },
    {
     "data": {
      "image/png": "[encoded data removed]",
      "text/plain": [
       "<Figure size 432x288 with 1 Axes>"
      ]
     },
     "metadata": {
      "needs_background": "light"
     },
     "output_type": "display_data"
    }
   ],
   "source": [
    "# plot the result\n",
    "df.plot(kind='line', x='Topics', y='Coherence')"
   ]
  },
  {
   "cell_type": "code",
   "execution_count": 10,
   "metadata": {},
   "outputs": [
    {
     "data": {
      "text/plain": [
       "{20: 0.5261953544774354,\n",
       " 25: 0.5322146887573581,\n",
       " 30: 0.5552787119678679,\n",
       " 35: 0.567054594115017,\n",
       " 40: 0.55531899920455,\n",
       " 45: 0.555765433987607,\n",
       " 50: 0.5612377243381319,\n",
       " 55: 0.5664517402015053}"
      ]
     },
     "execution_count": 10,
     "metadata": {},
     "output_type": "execute_result"
    }
   ],
   "source": [
    "coherences"
   ]
  },
  {
   "cell_type": "code",
   "execution_count": 11,
   "metadata": {},
   "outputs": [
    {
     "data": {
      "text/plain": [
       "[(0,\n",
       "  '0.017*\"social\" + 0.012*\"question\" + 0.010*\"study\" + 0.008*\"choice\" + 0.007*\"behavior\" + 0.007*\"group\" + 0.007*\"human\" + 0.006*\"reason\" + 0.006*\"answer\" + 0.006*\"wrong\" + 0.006*\"research\" + 0.006*\"society\" + 0.006*\"choices\" + 0.006*\"decisions\" + 0.006*\"questions\" + 0.006*\"asked\" + 0.005*\"makes\" + 0.005*\"bad\" + 0.005*\"moral\" + 0.005*\"evidence\"'),\n",
       " (1,\n",
       "  '0.014*\"change\" + 0.011*\"working\" + 0.009*\"team\" + 0.008*\"idea\" + 0.008*\"community\" + 0.007*\"create\" + 0.007*\"ideas\" + 0.007*\"start\" + 0.006*\"important\" + 0.006*\"success\" + 0.006*\"problems\" + 0.006*\"process\" + 0.006*\"organization\" + 0.005*\"build\" + 0.005*\"business\" + 0.005*\"trust\" + 0.005*\"impact\" + 0.005*\"social\" + 0.005*\"leaders\" + 0.005*\"support\"'),\n",
       " (2,\n",
       "  '0.026*\"black\" + 0.016*\"white\" + 0.014*\"law\" + 0.013*\"police\" + 0.011*\"justice\" + 0.009*\"prison\" + 0.008*\"states\" + 0.007*\"american\" + 0.007*\"america\" + 0.007*\"case\" + 0.007*\"rights\" + 0.007*\"crime\" + 0.007*\"legal\" + 0.007*\"court\" + 0.006*\"community\" + 0.006*\"race\" + 0.005*\"violence\" + 0.005*\"system\" + 0.005*\"united\" + 0.005*\"jail\"'),\n",
       " (3,\n",
       "  '0.037*\"light\" + 0.031*\"earth\" + 0.016*\"planet\" + 0.015*\"universe\" + 0.012*\"sun\" + 0.010*\"stars\" + 0.010*\"dark\" + 0.010*\"mars\" + 0.009*\"moon\" + 0.009*\"black\" + 0.008*\"planets\" + 0.008*\"sky\" + 0.007*\"solar\" + 0.007*\"system\" + 0.007*\"star\" + 0.007*\"big\" + 0.007*\"hole\" + 0.006*\"energy\" + 0.006*\"surface\" + 0.005*\"galaxy\"'),\n",
       " (4,\n",
       "  '0.040*\"children\" + 0.035*\"family\" + 0.026*\"mother\" + 0.025*\"child\" + 0.018*\"home\" + 0.017*\"parents\" + 0.017*\"father\" + 0.013*\"baby\" + 0.013*\"young\" + 0.013*\"born\" + 0.012*\"mom\" + 0.010*\"lives\" + 0.009*\"families\" + 0.009*\"girl\" + 0.009*\"son\" + 0.009*\"dad\" + 0.009*\"care\" + 0.008*\"story\" + 0.008*\"daughter\" + 0.008*\"age\"'),\n",
       " (5,\n",
       "  '0.049*\"percent\" + 0.028*\"number\" + 0.023*\"million\" + 0.023*\"10\" + 0.020*\"1\" + 0.015*\"2\" + 0.014*\"times\" + 0.014*\"100\" + 0.014*\"half\" + 0.013*\"30\" + 0.012*\"20\" + 0.011*\"numbers\" + 0.011*\"50\" + 0.011*\"3\" + 0.010*\"15\" + 0.009*\"5\" + 0.009*\"ago\" + 0.008*\"average\" + 0.008*\"40\" + 0.007*\"answer\"'),\n",
       " (6,\n",
       "  '0.017*\"political\" + 0.017*\"government\" + 0.017*\"power\" + 0.013*\"country\" + 0.011*\"change\" + 0.010*\"democracy\" + 0.010*\"public\" + 0.008*\"states\" + 0.008*\"president\" + 0.008*\"politics\" + 0.007*\"united\" + 0.006*\"citizens\" + 0.006*\"national\" + 0.006*\"state\" + 0.006*\"america\" + 0.005*\"vote\" + 0.005*\"rights\" + 0.005*\"society\" + 0.005*\"media\" + 0.005*\"election\"'),\n",
       " (7,\n",
       "  '0.052*\"school\" + 0.042*\"kids\" + 0.029*\"students\" + 0.023*\"education\" + 0.018*\"learning\" + 0.015*\"learn\" + 0.014*\"high\" + 0.013*\"children\" + 0.012*\"schools\" + 0.011*\"class\" + 0.011*\"teachers\" + 0.011*\"teach\" + 0.011*\"student\" + 0.011*\"college\" + 0.010*\"teacher\" + 0.009*\"young\" + 0.008*\"university\" + 0.008*\"teaching\" + 0.007*\"kid\" + 0.006*\"skills\"'),\n",
       " (8,\n",
       "  '0.031*\"cancer\" + 0.030*\"body\" + 0.029*\"cells\" + 0.019*\"heart\" + 0.019*\"blood\" + 0.013*\"sleep\" + 0.012*\"cell\" + 0.010*\"skin\" + 0.008*\"surgery\" + 0.007*\"tissue\" + 0.007*\"muscle\" + 0.007*\"disease\" + 0.006*\"patient\" + 0.006*\"stem\" + 0.005*\"bodies\" + 0.005*\"organs\" + 0.005*\"tumor\" + 0.005*\"stress\" + 0.005*\"breast\" + 0.005*\"system\"'),\n",
       " (9,\n",
       "  '0.023*\"design\" + 0.014*\"computer\" + 0.011*\"robot\" + 0.011*\"build\" + 0.008*\"working\" + 0.008*\"robots\" + 0.008*\"system\" + 0.008*\"create\" + 0.007*\"materials\" + 0.007*\"built\" + 0.007*\"material\" + 0.006*\"technology\" + 0.006*\"paper\" + 0.006*\"designed\" + 0.006*\"parts\" + 0.006*\"process\" + 0.006*\"simple\" + 0.006*\"show\" + 0.006*\"building\" + 0.006*\"small\"'),\n",
       " (10,\n",
       "  '0.011*\"feet\" + 0.009*\"air\" + 0.009*\"body\" + 0.008*\"fly\" + 0.008*\"move\" + 0.008*\"foot\" + 0.008*\"left\" + 0.007*\"walk\" + 0.007*\"legs\" + 0.006*\"ground\" + 0.006*\"side\" + 0.006*\"end\" + 0.006*\"mountain\" + 0.005*\"flying\" + 0.005*\"point\" + 0.005*\"running\" + 0.005*\"walking\" + 0.005*\"speed\" + 0.005*\"moving\" + 0.005*\"half\"'),\n",
       " (11,\n",
       "  '0.040*\"play\" + 0.030*\"game\" + 0.027*\"sound\" + 0.016*\"voice\" + 0.015*\"video\" + 0.014*\"sounds\" + 0.014*\"games\" + 0.013*\"playing\" + 0.010*\"real\" + 0.010*\"hear\" + 0.008*\"listening\" + 0.008*\"noise\" + 0.008*\"hearing\" + 0.006*\"experience\" + 0.006*\"call\" + 0.006*\"players\" + 0.006*\"start\" + 0.006*\"win\" + 0.005*\"player\" + 0.005*\"played\"'),\n",
       " (12,\n",
       "  '0.028*\"science\" + 0.013*\"theory\" + 0.009*\"universe\" + 0.009*\"scientists\" + 0.008*\"model\" + 0.008*\"physics\" + 0.007*\"question\" + 0.007*\"scientific\" + 0.007*\"number\" + 0.006*\"answer\" + 0.006*\"quantum\" + 0.006*\"reality\" + 0.006*\"pattern\" + 0.006*\"understand\" + 0.006*\"simple\" + 0.006*\"patterns\" + 0.005*\"mathematics\" + 0.005*\"explain\" + 0.005*\"matter\" + 0.005*\"nature\"'),\n",
       " (13,\n",
       "  '0.035*\"health\" + 0.019*\"care\" + 0.018*\"disease\" + 0.014*\"medical\" + 0.014*\"patients\" + 0.011*\"drug\" + 0.011*\"drugs\" + 0.010*\"doctors\" + 0.010*\"treatment\" + 0.009*\"doctor\" + 0.009*\"hospital\" + 0.008*\"patient\" + 0.008*\"hiv\" + 0.007*\"medicine\" + 0.006*\"diseases\" + 0.006*\"research\" + 0.005*\"risk\" + 0.005*\"early\" + 0.005*\"test\" + 0.005*\"healthy\"'),\n",
       " (14,\n",
       "  '0.032*\"feel\" + 0.015*\"experience\" + 0.012*\"feeling\" + 0.010*\"fear\" + 0.009*\"mind\" + 0.008*\"person\" + 0.008*\"lives\" + 0.008*\"talk\" + 0.007*\"happy\" + 0.007*\"live\" + 0.007*\"happiness\" + 0.007*\"felt\" + 0.007*\"friends\" + 0.007*\"emotional\" + 0.006*\"pain\" + 0.006*\"moment\" + 0.006*\"emotions\" + 0.005*\"face\" + 0.005*\"experiences\" + 0.005*\"feelings\"'),\n",
       " (15,\n",
       "  '0.024*\"show\" + 0.019*\"video\" + 0.014*\"film\" + 0.012*\"story\" + 0.011*\"picture\" + 0.011*\"movie\" + 0.011*\"stories\" + 0.011*\"real\" + 0.010*\"audience\" + 0.010*\"pictures\" + 0.009*\"camera\" + 0.009*\"tv\" + 0.008*\"watch\" + 0.007*\"man\" + 0.007*\"television\" + 0.007*\"magic\" + 0.006*\"watching\" + 0.006*\"face\" + 0.006*\"started\" + 0.006*\"movies\"'),\n",
       " (16,\n",
       "  '0.054*\"food\" + 0.019*\"eat\" + 0.012*\"plant\" + 0.008*\"eating\" + 0.008*\"feed\" + 0.007*\"plants\" + 0.007*\"farmers\" + 0.006*\"bees\" + 0.006*\"grow\" + 0.006*\"sugar\" + 0.006*\"meat\" + 0.006*\"farm\" + 0.005*\"growing\" + 0.005*\"coffee\" + 0.005*\"bread\" + 0.005*\"agriculture\" + 0.005*\"diet\" + 0.005*\"fat\" + 0.004*\"insects\" + 0.004*\"taste\"'),\n",
       " (17,\n",
       "  '0.031*\"war\" + 0.010*\"military\" + 0.008*\"peace\" + 0.008*\"conflict\" + 0.008*\"security\" + 0.007*\"killed\" + 0.007*\"violence\" + 0.006*\"country\" + 0.006*\"afghanistan\" + 0.006*\"refugees\" + 0.006*\"weapons\" + 0.005*\"soldiers\" + 0.005*\"iraq\" + 0.005*\"army\" + 0.005*\"news\" + 0.005*\"international\" + 0.004*\"middle\" + 0.004*\"east\" + 0.004*\"refugee\" + 0.004*\"attack\"'),\n",
       " (18,\n",
       "  '0.038*\"technology\" + 0.024*\"human\" + 0.021*\"car\" + 0.018*\"future\" + 0.016*\"machine\" + 0.011*\"cars\" + 0.009*\"machines\" + 0.009*\"system\" + 0.009*\"intelligence\" + 0.009*\"problem\" + 0.008*\"technologies\" + 0.007*\"power\" + 0.007*\"computer\" + 0.006*\"driving\" + 0.006*\"humans\" + 0.006*\"drive\" + 0.006*\"build\" + 0.005*\"ai\" + 0.005*\"computers\" + 0.005*\"artificial\"'),\n",
       " (19,\n",
       "  '0.084*\"women\" + 0.040*\"men\" + 0.026*\"woman\" + 0.020*\"girls\" + 0.019*\"sex\" + 0.011*\"gender\" + 0.011*\"female\" + 0.011*\"male\" + 0.010*\"man\" + 0.010*\"sexual\" + 0.010*\"talk\" + 0.009*\"young\" + 0.008*\"girl\" + 0.007*\"boys\" + 0.007*\"gay\" + 0.006*\"told\" + 0.005*\"culture\" + 0.005*\"talking\" + 0.005*\"marriage\" + 0.004*\"violence\"'),\n",
       " (20,\n",
       "  '0.018*\"species\" + 0.017*\"dna\" + 0.017*\"human\" + 0.012*\"humans\" + 0.011*\"animals\" + 0.010*\"bacteria\" + 0.009*\"genes\" + 0.008*\"evolution\" + 0.008*\"genetic\" + 0.008*\"animal\" + 0.007*\"biology\" + 0.007*\"gene\" + 0.007*\"cell\" + 0.006*\"genome\" + 0.006*\"living\" + 0.005*\"ago\" + 0.005*\"organisms\" + 0.005*\"found\" + 0.005*\"molecules\" + 0.005*\"biological\"'),\n",
       " (21,\n",
       "  '0.034*\"water\" + 0.032*\"energy\" + 0.017*\"climate\" + 0.014*\"carbon\" + 0.012*\"oil\" + 0.012*\"air\" + 0.011*\"change\" + 0.009*\"power\" + 0.008*\"waste\" + 0.007*\"natural\" + 0.007*\"gas\" + 0.007*\"solar\" + 0.006*\"plastic\" + 0.006*\"fuel\" + 0.006*\"nuclear\" + 0.006*\"environmental\" + 0.006*\"planet\" + 0.006*\"electricity\" + 0.006*\"trees\" + 0.006*\"forest\"'),\n",
       " (22,\n",
       "  '0.045*\"data\" + 0.028*\"information\" + 0.020*\"internet\" + 0.013*\"online\" + 0.012*\"phone\" + 0.010*\"technology\" + 0.010*\"google\" + 0.010*\"digital\" + 0.009*\"web\" + 0.008*\"media\" + 0.008*\"network\" + 0.007*\"facebook\" + 0.006*\"open\" + 0.006*\"computer\" + 0.006*\"access\" + 0.006*\"content\" + 0.006*\"mobile\" + 0.005*\"code\" + 0.005*\"software\" + 0.005*\"networks\"'),\n",
       " (23,\n",
       "  '0.016*\"god\" + 0.012*\"human\" + 0.011*\"history\" + 0.010*\"man\" + 0.009*\"century\" + 0.009*\"story\" + 0.008*\"religion\" + 0.007*\"ancient\" + 0.006*\"religious\" + 0.006*\"death\" + 0.006*\"culture\" + 0.006*\"faith\" + 0.005*\"king\" + 0.004*\"nature\" + 0.004*\"sense\" + 0.004*\"modern\" + 0.004*\"live\" + 0.004*\"dead\" + 0.004*\"church\" + 0.003*\"tradition\"'),\n",
       " (24,\n",
       "  '0.028*\"started\" + 0.021*\"wanted\" + 0.020*\"thought\" + 0.015*\"told\" + 0.015*\"knew\" + 0.014*\"asked\" + 0.014*\"found\" + 0.013*\"decided\" + 0.011*\"days\" + 0.010*\"looked\" + 0.010*\"felt\" + 0.010*\"realized\" + 0.009*\"happened\" + 0.009*\"months\" + 0.009*\"night\" + 0.009*\"learned\" + 0.008*\"story\" + 0.008*\"met\" + 0.008*\"began\" + 0.008*\"turned\"'),\n",
       " (25,\n",
       "  '0.027*\"talk\" + 0.021*\"bit\" + 0.019*\"idea\" + 0.018*\"sort\" + 0.017*\"stuff\" + 0.016*\"problem\" + 0.016*\"big\" + 0.015*\"start\" + 0.015*\"pretty\" + 0.014*\"interesting\" + 0.014*\"thinking\" + 0.013*\"talking\" + 0.012*\"thought\" + 0.012*\"basically\" + 0.011*\"important\" + 0.010*\"point\" + 0.010*\"happen\" + 0.009*\"happened\" + 0.009*\"couple\" + 0.008*\"lots\"'),\n",
       " (26,\n",
       "  '0.015*\"room\" + 0.012*\"head\" + 0.010*\"hand\" + 0.009*\"guy\" + 0.008*\"eyes\" + 0.008*\"front\" + 0.007*\"box\" + 0.007*\"dog\" + 0.007*\"morning\" + 0.007*\"feel\" + 0.006*\"open\" + 0.006*\"hard\" + 0.006*\"night\" + 0.006*\"person\" + 0.006*\"hands\" + 0.006*\"door\" + 0.006*\"kid\" + 0.005*\"car\" + 0.005*\"god\" + 0.005*\"bad\"'),\n",
       " (27,\n",
       "  '0.026*\"art\" + 0.012*\"color\" + 0.011*\"image\" + 0.010*\"beautiful\" + 0.009*\"project\" + 0.009*\"artist\" + 0.008*\"beauty\" + 0.008*\"idea\" + 0.008*\"images\" + 0.007*\"museum\" + 0.007*\"create\" + 0.007*\"piece\" + 0.007*\"artists\" + 0.006*\"sort\" + 0.006*\"form\" + 0.006*\"painting\" + 0.006*\"series\" + 0.006*\"experience\" + 0.005*\"draw\" + 0.005*\"paint\"'),\n",
       " (28,\n",
       "  '0.074*\"brain\" + 0.012*\"memory\" + 0.012*\"brains\" + 0.009*\"neurons\" + 0.008*\"information\" + 0.007*\"human\" + 0.007*\"consciousness\" + 0.006*\"body\" + 0.006*\"activity\" + 0.006*\"mind\" + 0.006*\"control\" + 0.005*\"visual\" + 0.005*\"system\" + 0.005*\"signals\" + 0.005*\"eyes\" + 0.005*\"face\" + 0.005*\"understand\" + 0.005*\"behavior\" + 0.004*\"lab\" + 0.004*\"attention\"'),\n",
       " (29,\n",
       "  '0.030*\"book\" + 0.030*\"language\" + 0.026*\"words\" + 0.025*\"read\" + 0.022*\"word\" + 0.018*\"write\" + 0.017*\"story\" + 0.017*\"books\" + 0.015*\"english\" + 0.015*\"writing\" + 0.014*\"stories\" + 0.010*\"reading\" + 0.010*\"written\" + 0.009*\"wrote\" + 0.007*\"speak\" + 0.007*\"languages\" + 0.007*\"paper\" + 0.006*\"letters\" + 0.006*\"letter\" + 0.005*\"library\"'),\n",
       " (30,\n",
       "  '0.072*\"music\" + 0.014*\"song\" + 0.013*\"dance\" + 0.013*\"yeah\" + 0.011*\"hear\" + 0.011*\"play\" + 0.010*\"piece\" + 0.009*\"audience\" + 0.009*\"singing\" + 0.009*\"sound\" + 0.008*\"la\" + 0.007*\"playing\" + 0.006*\"ends\" + 0.006*\"sing\" + 0.006*\"roll\" + 0.006*\"musical\" + 0.006*\"listen\" + 0.006*\"songs\" + 0.006*\"piano\" + 0.005*\"ladies\"'),\n",
       " (31,\n",
       "  '0.021*\"water\" + 0.020*\"ocean\" + 0.015*\"fish\" + 0.015*\"sea\" + 0.012*\"ice\" + 0.010*\"animals\" + 0.007*\"species\" + 0.007*\"deep\" + 0.007*\"surface\" + 0.006*\"places\" + 0.005*\"planet\" + 0.005*\"oceans\" + 0.005*\"place\" + 0.005*\"north\" + 0.005*\"river\" + 0.005*\"earth\" + 0.005*\"found\" + 0.005*\"coral\" + 0.004*\"high\" + 0.004*\"coast\"'),\n",
       " (32,\n",
       "  '0.042*\"city\" + 0.026*\"building\" + 0.021*\"cities\" + 0.013*\"design\" + 0.012*\"community\" + 0.012*\"built\" + 0.011*\"house\" + 0.011*\"place\" + 0.009*\"buildings\" + 0.009*\"build\" + 0.009*\"live\" + 0.009*\"places\" + 0.009*\"public\" + 0.008*\"home\" + 0.008*\"architecture\" + 0.008*\"york\" + 0.008*\"street\" + 0.007*\"urban\" + 0.006*\"local\" + 0.006*\"spaces\"'),\n",
       " (33,\n",
       "  '0.029*\"countries\" + 0.026*\"africa\" + 0.018*\"country\" + 0.017*\"china\" + 0.015*\"india\" + 0.014*\"global\" + 0.009*\"growth\" + 0.008*\"economic\" + 0.008*\"poverty\" + 0.008*\"african\" + 0.008*\"states\" + 0.008*\"chinese\" + 0.007*\"population\" + 0.007*\"poor\" + 0.007*\"united\" + 0.007*\"percent\" + 0.006*\"development\" + 0.006*\"billion\" + 0.006*\"south\" + 0.006*\"income\"'),\n",
       " (34,\n",
       "  '0.034*\"money\" + 0.026*\"dollars\" + 0.019*\"business\" + 0.015*\"companies\" + 0.014*\"company\" + 0.013*\"market\" + 0.011*\"buy\" + 0.010*\"pay\" + 0.009*\"industry\" + 0.008*\"cost\" + 0.008*\"jobs\" + 0.008*\"economy\" + 0.007*\"percent\" + 0.007*\"product\" + 0.006*\"financial\" + 0.006*\"sell\" + 0.006*\"economic\" + 0.006*\"million\" + 0.006*\"costs\" + 0.005*\"price\"')]"
      ]
     },
     "execution_count": 11,
     "metadata": {},
     "output_type": "execute_result"
    }
   ],
   "source": [
    "ldamalletmodel_list[3].show_topics(num_topics=40,num_words=20)"
   ]
  },
  {
   "cell_type": "code",
   "execution_count": 12,
   "metadata": {},
   "outputs": [
    {
     "name": "stdout",
     "output_type": "stream",
     "text": [
      "Document ID from lookup: 1082\n"
     ]
    }
   ],
   "source": [
    "lookup_doc_id1 = source_list.index('2018-03-03-kriti_sharma_how_to_keep_human_biases_out_of_ai.txt')\n",
    "print('Document ID from lookup:', lookup_doc_id1)"
   ]
  },
  {
   "cell_type": "code",
   "execution_count": 13,
   "metadata": {},
   "outputs": [
    {
     "name": "stdout",
     "output_type": "stream",
     "text": [
      "Document ID from lookup: 136\n"
     ]
    }
   ],
   "source": [
    "lookup_doc_id2 = source_list.index('2012-09-14-timothy_bartik_the_economic_case_for_preschool.txt')\n",
    "print('Document ID from lookup:', lookup_doc_id2)"
   ]
  },
  {
   "cell_type": "markdown",
   "metadata": {},
   "source": [
    "## Preview a document\n",
    "\n",
    "Preview a document - you can change the doc_id to view another document."
   ]
  },
  {
   "cell_type": "code",
   "execution_count": 14,
   "metadata": {
    "scrolled": true
   },
   "outputs": [
    {
     "name": "stdout",
     "output_type": "stream",
     "text": [
      "How many decisions have been made about you today, or this week or this year, by artificial intelligence? I build AI for a living so, full disclosure, I'm kind of a nerd. And because I'm kind of a nerd, wherever some new news story comes out about artificial intelligence stealing all our jobs, or robots getting citizenship of an actual country, I'm the person my friends and followers message freaking out about the future. We see this everywhere. This media panic that our robot overlords are taking over. We could blame Hollywood for that. But in reality, that's not the problem we should be focusing on. There is a more pressing danger, a bigger risk with AI, that we need to fix first. So we are back to this question: How many decisions have been made about you today by AI? And how many of these were based on your gender, your race or your background? Algorithms are being used all the time to make decisions about who we are and what we want. Some of the women in this room will know what I'm talking about if you've been made to sit through those pregnancy test adverts on YouTube like 1,000 times. Or you've scrolled past adverts of fertility clinics on your Facebook feed. Or in my case, Indian marriage bureaus. (Laughter) But AI isn't just being used to make decisions about what products we want to buy or which show we want to binge watch next. I wonder how you'd feel about someone who thought things like this: \"A black or Latino person is less likely than a white person to pay off their loan on time.\" \"A person called John makes a better programmer than a person called Mary.\" \"A black man is more likely to be a repeat offender than a white man.\" You're probably thinking, \"Wow, that sounds like a pretty sexist, racist person,\" right? These are some real decisions that AI has made very recently, based on the biases it has learned from us, from the humans. AI is being used to help decide whether or not you get that job interview; how much you pay for your car insurance; how good your credit score is; and even what rating you get in your annual performance review. But these decisions are all being filtered through its assumptions about our identity, our race, our gender, our age. How is that happening? Now, imagine an AI is helping a hiring manager find the next tech leader in the company. So far, the manager has been hiring mostly men. So the AI learns men are more likely to be programmers than women. And it's a very short leap from there to: men make better programmers than women. We have reinforced our own bias into the AI. And now, it's screening out female candidates. Hang on, if a human hiring manager did that, we'd be outraged, we wouldn't allow it. This kind of gender discrimination is not OK. And yet somehow, AI has become above the law, because a machine made the decision. That's not it. We are also reinforcing our bias in how we interact with AI. How often do you use a voice assistant like Siri, Alexa or even Cortana? They all have two things in common: one, they can never get my name right, and second, they are all female. They are designed to be our obedient servants, turning your lights on and off, ordering your shopping. You get male AIs too, but they tend to be more high-powered, like IBM Watson, making business decisions, Salesforce Einstein or ROSS, the robot lawyer. So poor robots, even they suffer from sexism in the workplace. (Laughter) Think about how these two things combine and affect a kid growing up in today's world around AI. So they're doing some research for a school project and they Google images of CEO. The algorithm shows them results of mostly men. And now, they Google personal assistant. As you can guess, it shows them mostly females. And then they want to put on some music, and maybe order some food, and now, they are barking orders at an obedient female voice assistant. Some of our brightest minds are creating this technology today. Technology that they could have created in any way they wanted. And yet, they have chosen to create it in the style of 1950s \"Mad Man\" secretary. Yay! But OK, don't worry, this is not going to end with me telling you that we are all heading towards sexist, racist machines running the world. The good news about AI is that it is entirely within our control. We get to teach the right values, the right ethics to AI. So there are three things we can do. One, we can be aware of our own biases and the bias in machines around us. Two, we can make sure that diverse teams are building this technology. And three, we have to give it diverse experiences to learn from. I can talk about the first two from personal experience. When you work in technology and you don't look like a Mark Zuckerberg or Elon Musk, your life is a little bit difficult, your ability gets questioned. Here's just one example. Like most developers, I often join online tech forums and share my knowledge to help others. And I've found, when I log on as myself, with my own photo, my own name, I tend to get questions or comments like this: \"What makes you think you're qualified to talk about AI?\" \"What makes you think you know about machine learning?\" So, as you do, I made a new profile, and this time, instead of my own picture, I chose a cat with a jet pack on it. And I chose a name that did not reveal my gender. You can probably guess where this is going, right? So, this time, I didn't get any of those patronizing comments about my ability and I was able to actually get some work done. And it sucks, guys. I've been building robots since I was 15, I have a few degrees in computer science, and yet, I had to hide my gender in order for my work to be taken seriously. So, what's going on here? Are men just better at technology than women? Another study found that when women coders on one platform hid their gender, like myself, their code was accepted four percent more than men. So this is not about the talent. This is about an elitism in AI that says a programmer needs to look like a certain person. What we really need to do to make AI better is bring people from all kinds of backgrounds. We need people who can write and tell stories to help us create personalities of AI. We need people who can solve problems. We need people who face different challenges and we need people who can tell us what are the real issues that need fixing and help us find ways that technology can actually fix it. Because, when people from diverse backgrounds come together, when we build things in the right way, the possibilities are limitless. And that's what I want to end by talking to you about. Less racist robots, less machines that are going to take our jobs — and more about what technology can actually achieve. So, yes, some of the energy in the world of AI, in the world of technology is going to be about what ads you see on your stream. But a lot of it is going towards making the world so much better. Think about a pregnant woman in the Democratic Republic of Congo, who has to walk 17 hours to her nearest rural prenatal clinic to get a checkup. What if she could get diagnosis on her phone, instead? Or think about what AI could do for those one in three women in South Africa who face domestic violence. If it wasn't safe to talk out loud, they could get an AI service to raise alarm, get financial and legal advice. These are all real examples of projects that people, including myself, are working on right now, using AI. So, I'm sure in the next couple of days there will be yet another news story about the existential risk, robots taking over and coming for your jobs. (Laughter) And when something like that happens, I know I'll get the same messages worrying about the future. But I feel incredibly positive about this technology. This is our chance to remake the world into a much more equal place. But to do that, we need to build it the right way from the get go. We need people of different genders, races, sexualities and backgrounds. We need women to be the makers and not just the machines who do the makers' bidding. We need to think very carefully what we teach machines, what data we give them, so they don't just repeat our own past mistakes. So I hope I leave you thinking about two things. First, I hope you leave thinking about bias today. And that the next time you scroll past an advert that assumes you are interested in fertility clinics or online betting websites, that you think and remember that the same technology is assuming that a black man will reoffend. Or that a woman is more likely to be a personal assistant than a CEO. And I hope that reminds you that we need to do something about it. And second, I hope you think about the fact that you don't need to look a certain way or have a certain background in engineering or technology to create AI, which is going to be a phenomenal force for our future. You don't need to look like a Mark Zuckerberg, you can look like me. And it is up to all of us in this room to convince the governments and the corporations to build AI technology for everyone, including the edge cases. And for us all to get education about this phenomenal technology in the future. Because if we do that, then we've only just scratched the surface of what we can achieve with AI. Thank you. (Applause)\n"
     ]
    }
   ],
   "source": [
    "doc_id1 = lookup_doc_id1 # index of document to explore\n",
    "print(re.sub('\\s+', ' ', document_list[doc_id1])) "
   ]
  },
  {
   "cell_type": "markdown",
   "metadata": {},
   "source": [
    "## Output the distribution of topics for the document\n",
    "\n",
    "The next cell outputs the distribution of topics on the document specified above."
   ]
  },
  {
   "cell_type": "code",
   "execution_count": 15,
   "metadata": {},
   "outputs": [
    {
     "name": "stdout",
     "output_type": "stream",
     "text": [
      "0.18 18 ['technology', 'human', 'car', 'future', 'machine', 'cars', 'machines', 'system', 'intelligence', 'problem', 'technologies', 'power', 'computer', 'driving', 'humans', 'drive', 'build', 'ai', 'computers', 'artificial']\n",
      "0.14 19 ['women', 'men', 'woman', 'girls', 'sex', 'gender', 'female', 'male', 'man', 'sexual', 'talk', 'young', 'girl', 'boys', 'gay', 'told', 'culture', 'talking', 'marriage', 'violence']\n",
      "0.11 22 ['data', 'information', 'internet', 'online', 'phone', 'technology', 'google', 'digital', 'web', 'media', 'network', 'facebook', 'open', 'computer', 'access', 'content', 'mobile', 'code', 'software', 'networks']\n",
      "0.09 1 ['change', 'working', 'team', 'idea', 'community', 'create', 'ideas', 'start', 'important', 'success', 'problems', 'process', 'organization', 'build', 'business', 'trust', 'impact', 'social', 'leaders', 'support']\n",
      "0.08 0 ['social', 'question', 'study', 'choice', 'behavior', 'group', 'human', 'reason', 'answer', 'wrong', 'research', 'society', 'choices', 'decisions', 'questions', 'asked', 'makes', 'bad', 'moral', 'evidence']\n",
      "0.04 2 ['black', 'white', 'law', 'police', 'justice', 'prison', 'states', 'american', 'america', 'case', 'rights', 'crime', 'legal', 'court', 'community', 'race', 'violence', 'system', 'united', 'jail']\n",
      "0.04 25 ['talk', 'bit', 'idea', 'sort', 'stuff', 'problem', 'big', 'start', 'pretty', 'interesting', 'thinking', 'talking', 'thought', 'basically', 'important', 'point', 'happen', 'happened', 'couple', 'lots']\n",
      "0.03 34 ['money', 'dollars', 'business', 'companies', 'company', 'market', 'buy', 'pay', 'industry', 'cost', 'jobs', 'economy', 'percent', 'product', 'financial', 'sell', 'economic', 'million', 'costs', 'price']\n",
      "0.03 7 ['school', 'kids', 'students', 'education', 'learning', 'learn', 'high', 'children', 'schools', 'class', 'teachers', 'teach', 'student', 'college', 'teacher', 'young', 'university', 'teaching', 'kid', 'skills']\n",
      "0.03 15 ['show', 'video', 'film', 'story', 'picture', 'movie', 'stories', 'real', 'audience', 'pictures', 'camera', 'tv', 'watch', 'man', 'television', 'magic', 'watching', 'face', 'started', 'movies']\n",
      "0.02 14 ['feel', 'experience', 'feeling', 'fear', 'mind', 'person', 'lives', 'talk', 'happy', 'live', 'happiness', 'felt', 'friends', 'emotional', 'pain', 'moment', 'emotions', 'face', 'experiences', 'feelings']\n",
      "0.02 9 ['design', 'computer', 'robot', 'build', 'working', 'robots', 'system', 'create', 'materials', 'built', 'material', 'technology', 'paper', 'designed', 'parts', 'process', 'simple', 'show', 'building', 'small']\n",
      "0.02 6 ['political', 'government', 'power', 'country', 'change', 'democracy', 'public', 'states', 'president', 'politics', 'united', 'citizens', 'national', 'state', 'america', 'vote', 'rights', 'society', 'media', 'election']\n",
      "0.02 13 ['health', 'care', 'disease', 'medical', 'patients', 'drug', 'drugs', 'doctors', 'treatment', 'doctor', 'hospital', 'patient', 'hiv', 'medicine', 'diseases', 'research', 'risk', 'early', 'test', 'healthy']\n",
      "0.02 26 ['room', 'head', 'hand', 'guy', 'eyes', 'front', 'box', 'dog', 'morning', 'feel', 'open', 'hard', 'night', 'person', 'hands', 'door', 'kid', 'car', 'god', 'bad']\n",
      "0.02 33 ['countries', 'africa', 'country', 'china', 'india', 'global', 'growth', 'economic', 'poverty', 'african', 'states', 'chinese', 'population', 'poor', 'united', 'percent', 'development', 'billion', 'south', 'income']\n",
      "0.01 24 ['started', 'wanted', 'thought', 'told', 'knew', 'asked', 'found', 'decided', 'days', 'looked', 'felt', 'realized', 'happened', 'months', 'night', 'learned', 'story', 'met', 'began', 'turned']\n"
     ]
    }
   ],
   "source": [
    "document_topics = gensimmodel_list[3].get_document_topics(doc_term_matrix[doc_id1]) # substitute other models here\n",
    "document_topics = sorted(document_topics, key=lambda x: x[1], reverse=True) # sorts document topics\n",
    "\n",
    "for topic, prop in document_topics:\n",
    "    topic_words = [word[0] for word in gensimmodel_list[3].show_topic(topic, 20)]\n",
    "    print (\"%.2f\" % prop, topic, topic_words)"
   ]
  },
  {
   "cell_type": "markdown",
   "metadata": {},
   "source": [
    "## Find similar documents\n",
    "This will find the 5 most similar documents to the document specified above based on their topic distribution. The MatrixSimilarity() method uses cosine similarity to measure how similar the document specified by `docid` is to all other documents for that model. There are better measures, but this one is quick and simple to implement."
   ]
  },
  {
   "cell_type": "code",
   "execution_count": 16,
   "metadata": {},
   "outputs": [
    {
     "name": "stdout",
     "output_type": "stream",
     "text": [
      "Document Index:  752\n",
      "Document: 2017-12-06-raphael_arar_how_we_can_teach_computers_to_make_sense_of_our_emotions.txt\n",
      "Similarity Score 0.2987894\n",
      "I consider myself one part artist and one part designer. And I work at an artificial intelligence research lab. We're trying to create technology that you'll want to interact with in the far future. Not just six months from now, but try years and decades from now. And we're taking a moonshot that we'll want to be interacting with computers in deeply emotional ways. So in order to do that, the technology has to be just as much human as it is artificial. It has to get you. You know, like that insi ...\n",
      "0.15 14 ['feel', 'experience', 'feeling', 'fear', 'mind', 'person', 'lives', 'talk', 'happy', 'live', 'happiness', 'felt', 'friends', 'emotional', 'pain', 'moment', 'emotions', 'face', 'experiences', 'feelings']\n",
      "0.15 18 ['technology', 'human', 'car', 'future', 'machine', 'cars', 'machines', 'system', 'intelligence', 'problem', 'technologies', 'power', 'computer', 'driving', 'humans', 'drive', 'build', 'ai', 'computers', 'artificial']\n",
      "0.10 27 ['art', 'color', 'image', 'beautiful', 'project', 'artist', 'beauty', 'idea', 'images', 'museum', 'create', 'piece', 'artists', 'sort', 'form', 'painting', 'series', 'experience', 'draw', 'paint']\n",
      "0.09 9 ['design', 'computer', 'robot', 'build', 'working', 'robots', 'system', 'create', 'materials', 'built', 'material', 'technology', 'paper', 'designed', 'parts', 'process', 'simple', 'show', 'building', 'small']\n",
      "0.08 0 ['social', 'question', 'study', 'choice', 'behavior', 'group', 'human', 'reason', 'answer', 'wrong', 'research', 'society', 'choices', 'decisions', 'questions', 'asked', 'makes', 'bad', 'moral', 'evidence']\n",
      "0.06 22 ['data', 'information', 'internet', 'online', 'phone', 'technology', 'google', 'digital', 'web', 'media', 'network', 'facebook', 'open', 'computer', 'access', 'content', 'mobile', 'code', 'software', 'networks']\n",
      "0.04 12 ['science', 'theory', 'universe', 'scientists', 'model', 'physics', 'question', 'scientific', 'number', 'answer', 'quantum', 'reality', 'pattern', 'understand', 'simple', 'patterns', 'mathematics', 'explain', 'matter', 'nature']\n",
      "0.03 29 ['book', 'language', 'words', 'read', 'word', 'write', 'story', 'books', 'english', 'writing', 'stories', 'reading', 'written', 'wrote', 'speak', 'languages', 'paper', 'letters', 'letter', 'library']\n",
      "0.03 1 ['change', 'working', 'team', 'idea', 'community', 'create', 'ideas', 'start', 'important', 'success', 'problems', 'process', 'organization', 'build', 'business', 'trust', 'impact', 'social', 'leaders', 'support']\n",
      "0.03 7 ['school', 'kids', 'students', 'education', 'learning', 'learn', 'high', 'children', 'schools', 'class', 'teachers', 'teach', 'student', 'college', 'teacher', 'young', 'university', 'teaching', 'kid', 'skills']\n",
      "0.03 26 ['room', 'head', 'hand', 'guy', 'eyes', 'front', 'box', 'dog', 'morning', 'feel', 'open', 'hard', 'night', 'person', 'hands', 'door', 'kid', 'car', 'god', 'bad']\n",
      "0.03 11 ['play', 'game', 'sound', 'voice', 'video', 'sounds', 'games', 'playing', 'real', 'hear', 'listening', 'noise', 'hearing', 'experience', 'call', 'players', 'start', 'win', 'player', 'played']\n",
      "0.02 25 ['talk', 'bit', 'idea', 'sort', 'stuff', 'problem', 'big', 'start', 'pretty', 'interesting', 'thinking', 'talking', 'thought', 'basically', 'important', 'point', 'happen', 'happened', 'couple', 'lots']\n",
      "0.02 30 ['music', 'song', 'dance', 'yeah', 'hear', 'play', 'piece', 'audience', 'singing', 'sound', 'la', 'playing', 'ends', 'sing', 'roll', 'musical', 'listen', 'songs', 'piano', 'ladies']\n",
      "0.02 28 ['brain', 'memory', 'brains', 'neurons', 'information', 'human', 'consciousness', 'body', 'activity', 'mind', 'control', 'visual', 'system', 'signals', 'eyes', 'face', 'understand', 'behavior', 'lab', 'attention']\n",
      "0.01 15 ['show', 'video', 'film', 'story', 'picture', 'movie', 'stories', 'real', 'audience', 'pictures', 'camera', 'tv', 'watch', 'man', 'television', 'magic', 'watching', 'face', 'started', 'movies']\n",
      "0.01 32 ['city', 'building', 'cities', 'design', 'community', 'built', 'house', 'place', 'buildings', 'build', 'live', 'places', 'public', 'home', 'architecture', 'york', 'street', 'urban', 'local', 'spaces']\n",
      "\n",
      "Document Index:  648\n",
      "Document: 2017-04-24-noriko_arai_can_a_robot_pass_a_university_entrance_exam.txt\n",
      "Similarity Score 0.29258373\n",
      "Today, I'm going to talk about AI and us. AI researchers have always said that we humans do not need to worry, because only menial jobs will be taken over by machines. Is that really true? They have also said that AI will create new jobs, so those who lose their jobs will find a new one. Of course. But the real question is: How many of those who may lose their jobs to AI will be able to land a new one, especially when AI is smart enough to learn better than most of us? Let me ask you a question ...\n",
      "0.17 18 ['technology', 'human', 'car', 'future', 'machine', 'cars', 'machines', 'system', 'intelligence', 'problem', 'technologies', 'power', 'computer', 'driving', 'humans', 'drive', 'build', 'ai', 'computers', 'artificial']\n",
      "0.16 7 ['school', 'kids', 'students', 'education', 'learning', 'learn', 'high', 'children', 'schools', 'class', 'teachers', 'teach', 'student', 'college', 'teacher', 'young', 'university', 'teaching', 'kid', 'skills']\n",
      "0.11 29 ['book', 'language', 'words', 'read', 'word', 'write', 'story', 'books', 'english', 'writing', 'stories', 'reading', 'written', 'wrote', 'speak', 'languages', 'paper', 'letters', 'letter', 'library']\n",
      "0.09 5 ['percent', 'number', 'million', '10', '1', '2', 'times', '100', 'half', '30', '20', 'numbers', '50', '3', '15', '5', 'ago', 'average', '40', 'answer']\n",
      "0.06 9 ['design', 'computer', 'robot', 'build', 'working', 'robots', 'system', 'create', 'materials', 'built', 'material', 'technology', 'paper', 'designed', 'parts', 'process', 'simple', 'show', 'building', 'small']\n",
      "0.05 12 ['science', 'theory', 'universe', 'scientists', 'model', 'physics', 'question', 'scientific', 'number', 'answer', 'quantum', 'reality', 'pattern', 'understand', 'simple', 'patterns', 'mathematics', 'explain', 'matter', 'nature']\n",
      "0.04 30 ['music', 'song', 'dance', 'yeah', 'hear', 'play', 'piece', 'audience', 'singing', 'sound', 'la', 'playing', 'ends', 'sing', 'roll', 'musical', 'listen', 'songs', 'piano', 'ladies']\n",
      "0.04 0 ['social', 'question', 'study', 'choice', 'behavior', 'group', 'human', 'reason', 'answer', 'wrong', 'research', 'society', 'choices', 'decisions', 'questions', 'asked', 'makes', 'bad', 'moral', 'evidence']\n",
      "0.04 33 ['countries', 'africa', 'country', 'china', 'india', 'global', 'growth', 'economic', 'poverty', 'african', 'states', 'chinese', 'population', 'poor', 'united', 'percent', 'development', 'billion', 'south', 'income']\n",
      "0.04 25 ['talk', 'bit', 'idea', 'sort', 'stuff', 'problem', 'big', 'start', 'pretty', 'interesting', 'thinking', 'talking', 'thought', 'basically', 'important', 'point', 'happen', 'happened', 'couple', 'lots']\n",
      "0.03 23 ['god', 'human', 'history', 'man', 'century', 'story', 'religion', 'ancient', 'religious', 'death', 'culture', 'faith', 'king', 'nature', 'sense', 'modern', 'live', 'dead', 'church', 'tradition']\n",
      "0.02 22 ['data', 'information', 'internet', 'online', 'phone', 'technology', 'google', 'digital', 'web', 'media', 'network', 'facebook', 'open', 'computer', 'access', 'content', 'mobile', 'code', 'software', 'networks']\n",
      "0.01 3 ['light', 'earth', 'planet', 'universe', 'sun', 'stars', 'dark', 'mars', 'moon', 'black', 'planets', 'sky', 'solar', 'system', 'star', 'big', 'hole', 'energy', 'surface', 'galaxy']\n",
      "0.01 31 ['water', 'ocean', 'fish', 'sea', 'ice', 'animals', 'species', 'deep', 'surface', 'places', 'planet', 'oceans', 'place', 'north', 'river', 'earth', 'found', 'coral', 'high', 'coast']\n",
      "\n",
      "Document Index:  1217\n",
      "Document: 2009-11-20-kevin_kelly_tells_technology_s_epic_story.txt\n",
      "Similarity Score 0.28692716\n",
      "I want to talk about my investigations into what technology means in our lives — not just our immediate life, but in the cosmic sense, in the kind of long history of the world and our place in the world. What is this stuff? What is the significance? And so, I want to kind of go through my little story of what I found out. One of the first things I started to investigate was the history of the name of technology. In the United States, there is a State of the Union address given by every presiden ...\n",
      "0.21 18 ['technology', 'human', 'car', 'future', 'machine', 'cars', 'machines', 'system', 'intelligence', 'problem', 'technologies', 'power', 'computer', 'driving', 'humans', 'drive', 'build', 'ai', 'computers', 'artificial']\n",
      "0.11 20 ['species', 'dna', 'human', 'humans', 'animals', 'bacteria', 'genes', 'evolution', 'genetic', 'animal', 'biology', 'gene', 'cell', 'genome', 'living', 'ago', 'organisms', 'found', 'molecules', 'biological']\n",
      "0.10 25 ['talk', 'bit', 'idea', 'sort', 'stuff', 'problem', 'big', 'start', 'pretty', 'interesting', 'thinking', 'talking', 'thought', 'basically', 'important', 'point', 'happen', 'happened', 'couple', 'lots']\n",
      "0.09 21 ['water', 'energy', 'climate', 'carbon', 'oil', 'air', 'change', 'power', 'waste', 'natural', 'gas', 'solar', 'plastic', 'fuel', 'nuclear', 'environmental', 'planet', 'electricity', 'trees', 'forest']\n",
      "0.05 23 ['god', 'human', 'history', 'man', 'century', 'story', 'religion', 'ancient', 'religious', 'death', 'culture', 'faith', 'king', 'nature', 'sense', 'modern', 'live', 'dead', 'church', 'tradition']\n",
      "0.05 0 ['social', 'question', 'study', 'choice', 'behavior', 'group', 'human', 'reason', 'answer', 'wrong', 'research', 'society', 'choices', 'decisions', 'questions', 'asked', 'makes', 'bad', 'moral', 'evidence']\n",
      "0.04 16 ['food', 'eat', 'plant', 'eating', 'feed', 'plants', 'farmers', 'bees', 'grow', 'sugar', 'meat', 'farm', 'growing', 'coffee', 'bread', 'agriculture', 'diet', 'fat', 'insects', 'taste']\n",
      "0.04 3 ['light', 'earth', 'planet', 'universe', 'sun', 'stars', 'dark', 'mars', 'moon', 'black', 'planets', 'sky', 'solar', 'system', 'star', 'big', 'hole', 'energy', 'surface', 'galaxy']\n",
      "0.03 4 ['children', 'family', 'mother', 'child', 'home', 'parents', 'father', 'baby', 'young', 'born', 'mom', 'lives', 'families', 'girl', 'son', 'dad', 'care', 'story', 'daughter', 'age']\n",
      "0.03 5 ['percent', 'number', 'million', '10', '1', '2', 'times', '100', 'half', '30', '20', 'numbers', '50', '3', '15', '5', 'ago', 'average', '40', 'answer']\n",
      "0.03 33 ['countries', 'africa', 'country', 'china', 'india', 'global', 'growth', 'economic', 'poverty', 'african', 'states', 'chinese', 'population', 'poor', 'united', 'percent', 'development', 'billion', 'south', 'income']\n",
      "0.02 34 ['money', 'dollars', 'business', 'companies', 'company', 'market', 'buy', 'pay', 'industry', 'cost', 'jobs', 'economy', 'percent', 'product', 'financial', 'sell', 'economic', 'million', 'costs', 'price']\n",
      "0.02 12 ['science', 'theory', 'universe', 'scientists', 'model', 'physics', 'question', 'scientific', 'number', 'answer', 'quantum', 'reality', 'pattern', 'understand', 'simple', 'patterns', 'mathematics', 'explain', 'matter', 'nature']\n",
      "0.02 1 ['change', 'working', 'team', 'idea', 'community', 'create', 'ideas', 'start', 'important', 'success', 'problems', 'process', 'organization', 'build', 'business', 'trust', 'impact', 'social', 'leaders', 'support']\n",
      "0.02 32 ['city', 'building', 'cities', 'design', 'community', 'built', 'house', 'place', 'buildings', 'build', 'live', 'places', 'public', 'home', 'architecture', 'york', 'street', 'urban', 'local', 'spaces']\n",
      "0.01 28 ['brain', 'memory', 'brains', 'neurons', 'information', 'human', 'consciousness', 'body', 'activity', 'mind', 'control', 'visual', 'system', 'signals', 'eyes', 'face', 'understand', 'behavior', 'lab', 'attention']\n",
      "0.01 29 ['book', 'language', 'words', 'read', 'word', 'write', 'story', 'books', 'english', 'writing', 'stories', 'reading', 'written', 'wrote', 'speak', 'languages', 'paper', 'letters', 'letter', 'library']\n",
      "0.01 17 ['war', 'military', 'peace', 'conflict', 'security', 'killed', 'violence', 'country', 'afghanistan', 'refugees', 'weapons', 'soldiers', 'iraq', 'army', 'news', 'international', 'middle', 'east', 'refugee', 'attack']\n",
      "\n"
     ]
    }
   ],
   "source": [
    "model_doc_topics = gensimmodel_list[3].get_document_topics(doc_term_matrix) # substitute other models here\n",
    "lda_index = similarities.MatrixSimilarity(model_doc_topics.corpus)\n",
    "    \n",
    "# query for our doc_id from above\n",
    "similarity_index = lda_index[doc_term_matrix[doc_id1]]\n",
    "# Sort the similarity index\n",
    "similarity_index = sorted(enumerate(similarity_index), key=lambda item: -item[1])\n",
    "\n",
    "for i in range(8,11): \n",
    "    document_id, similarity_score = similarity_index[i]\n",
    "    print('Document Index: ',document_id)\n",
    "    print('Document:', source_list[document_id])\n",
    "    print('Similarity Score',similarity_score)\n",
    "    print(re.sub('\\s+', ' ', document_list[document_id][:500]), '...') # preview first 500 characters\n",
    "    \n",
    "    document_topics1 = gensimmodel_list[3].get_document_topics(doc_term_matrix[document_id])\n",
    "    document_topics1 = sorted(document_topics1, key=lambda x: x[1], reverse=True)\n",
    "    for topic, prop in document_topics1:\n",
    "        topic_words = [word[0] for word in gensimmodel_list[3].show_topic(topic, 20)]\n",
    "        print (\"%.2f\" % prop, topic, topic_words)\n",
    "    \n",
    "    print()"
   ]
  },
  {
   "cell_type": "markdown",
   "metadata": {},
   "source": [
    "## Preview a document\n",
    "\n",
    "Preview a document - you can change the doc_id to view another document."
   ]
  },
  {
   "cell_type": "code",
   "execution_count": 17,
   "metadata": {
    "scrolled": false
   },
   "outputs": [
    {
     "name": "stdout",
     "output_type": "stream",
     "text": [
      "In this talk today, I want to present a different idea for why investing in early childhood education makes sense as a public investment. It's a different idea, because usually, when people talk about early childhood programs, they talk about all the wonderful benefits for participants in terms of former participants, in preschool, they have better K-12 test scores, better adult earnings. Now that's all very important, but what I want to talk about is what preschool does for state economies and for promoting state economic development. And that's actually crucial because if we're going to get increased investment in early childhood programs, we need to interest state governments in this. The federal government has a lot on its plate, and state governments are going to have to step up. So we have to appeal to them, the legislators in the state government, and turn to something they understand, that they have to promote the economic development of their state economy. Now, by promoting economic development, I don't mean anything magical. All I mean is, is that early childhood education can bring more and better jobs to a state and can thereby promote higher per capita earnings for the state's residents. Now, I think it's fair to say that when people think about state and local economic development, they don't generally think first about what they're doing about childcare and early childhood programs. I know this. I've spent most of my career researching these programs. I've talked to a lot of directors of state economic development agencies about these issues, a lot of legislators about these issues. When legislators and others think about economic development, what they first of all think about are business tax incentives, property tax abatements, job creation tax credits, you know, there are a million of these programs all over the place. So for example, states compete very vigorously to attract new auto plants or expanded auto plants. They hand out all kinds of business tax breaks. Now, those programs can make sense if they in fact induce new location decisions, and the way they can make sense is, by creating more and better jobs, they raise employment rates, raise per capita earnings of state residents. So there is a benefit to state residents that corresponds to the costs that they're paying by paying for these business tax breaks. My argument is essentially that early childhood programs can do exactly the same thing, create more and better jobs, but in a different way. It's a somewhat more indirect way. These programs can promote more and better jobs by, you build it, you invest in high-quality preschool, it develops the skills of your local workforce if enough of them stick around, and, in turn, that higher-quality local workforce will be a key driver of creating jobs and creating higher earnings per capita in the local community. Now, let me turn to some numbers on this. Okay. If you look at the research evidence — that's extensive — on how much early childhood programs affect the educational attainment, wages and skills of former participants in preschool as adults, you take those known effects, you take how many of those folks will be expected to stick around the state or local economy and not move out, and you take research on how much skills drive job creation, you will conclude, from these three separate lines of research, that for every dollar invested in early childhood programs, the per capita earnings of state residents go up by two dollars and 78 cents, so that's a three-to-one return. Now you can get much higher returns, of up to 16-to-one, if you include anti-crime benefits, if you include benefits to former preschool participants who move to some other state, but there's a good reason for focusing on these three dollars because this is salient and important to state legislators and state policy makers, and it's the states that are going to have to act. So there is this key benefit that is relevant to state policy makers in terms of economic development. Now, one objection you often hear, or maybe you don't hear it because people are too polite to say it, is, why should I pay more taxes to invest in other people's children? What's in it for me? And the trouble with that objection, it reflects a total misunderstanding of how much local economies involve everyone being interdependent. Specifically, the interdependency here is, is that there are huge spillovers of skills — that when other people's children get more skills, that actually increases the prosperity of everyone, including people whose skills don't change. So for example, numerous research studies have shown if you look at what really drives the growth rate of metropolitan areas, it's not so much low taxes, low cost, low wages; it's the skills of the area. Particularly, the proxy for skills that people use is percentage of college graduates in the area. So when you look, for example, at metropolitan areas such as the Boston area, Minneapolis-St. Paul, Silicon Valley, these areas are not doing well economically because they're low-cost. I don't know if you ever tried to buy a house in Silicon Valley. It's not exactly a low-cost proposition. They are growing because they have high levels of skills. So when we invest in other people's children, and build up those skills, we increase the overall job growth of a metro area. As another example, if we look at what determines an individual's wages, and we do statistical exploration of that, what determines wages, we know that the individual's wages will depend, in part, on that individual's education, for example whether or not they have a college degree. One of the very interesting facts is that, in addition, we find that even once we hold constant, statistically, the effect of your own education, the education of everyone else in your metropolitan area also affects your wages. So specifically, if you hold constant your education, you stick in percentage of college graduates in your metro area, you will find that has a significant positive effect on your wages without changing your education at all. In fact, this effect is so strong that when someone gets a college degree, the spillover effects of this on the wages of others in the metropolitan area are actually greater than the direct effects. So if someone gets a college degree, their lifetime earnings go up by a huge amount, over 700,000 dollars. There's an effect on everyone else in the metro area of driving up the percentage of college graduates in the metro area, and if you add that up — it's a small effect for each person, but if you add that up across all the people in the metro area, you actually get that the increase in wages for everyone else in the metropolitan area adds up to almost a million dollars. That's actually greater than the direct benefits of the person choosing to get education. Now, what's going on here? What can explain these huge spillover effects of education? Well, let's think about it this way. I can be the most skilled person in the world, but if everyone else at my firm lacks skills, my employer is going to find it more difficult to introduce new technology, new production techniques. So as a result, my employer is going to be less productive. They will not be able to afford to pay me as good wages. Even if everyone at my firm has good skills, if the workers at the suppliers to my firm do not have good skills, my firm is going to be less competitive competing in national and international markets. And again, the firm that's less competitive will not be able to pay as good wages, and then, particularly in high-tech businesses, they're constantly stealing ideas and workers from other businesses. So clearly the productivity of firms in Silicon Valley has a lot to do with the skills not only of the workers at their firm, but the workers at all the other firms in the metro area. So as a result, if we can invest in other people's children through preschool and other early childhood programs that are high-quality, we not only help those children, we help everyone in the metropolitan area gain in wages and we'll have the metropolitan area gain in job growth. Another objection used sometimes here to invest in early childhood programs is concern about people moving out. So, you know, maybe Ohio's thinking about investing in more preschool education for children in Columbus, Ohio, but they're worried that these little Buckeyes will, for some strange reason, decide to move to Ann Arbor, Michigan, and become Wolverines. And maybe Michigan will be thinking about investing in preschool in Ann Arbor, Michigan, and be worried these little Wolverines will end up moving to Ohio and becoming Buckeyes. And so they'll both underinvest because everyone's going to move out. Well, the reality is, if you look at the data, Americans aren't as hyper-mobile as people sometimes assume. The data is that over 60 percent of Americans spend most of their working careers in the state they were born in, over 60 percent. That percentage does not vary much from state to state. It doesn't vary much with the state's economy, whether it's depressed or booming, it doesn't vary much over time. So the reality is, if you invest in kids, they will stay. Or at least, enough of them will stay that it will pay off for your state economy. Okay, so to sum up, there is a lot of research evidence that early childhood programs, if run in a high-quality way, pay off in higher adult skills. There's a lot of research evidence that those folks will stick around the state economy, and there's a lot of evidence that having more workers with higher skills in your local economy pays off in higher wages and job growth for your local economy, and if you calculate the numbers for each dollar, we get about three dollars back in benefits for the state economy. So in my opinion, the research evidence is compelling and the logic of this is compelling. So what are the barriers to getting it done? Well, one obvious barrier is cost. So if you look at what it would cost if every state government invested in universal preschool at age four, full-day preschool at age four, the total annual national cost would be roughly 30 billion dollars. So, 30 billion dollars is a lot of money. On the other hand, if you reflect on that the U.S.'s population is over 300 million, we're talking about an amount of money that amounts to 100 dollars per capita. Okay? A hundred dollars per capita, per person, is something that any state government can afford to do. It's just a simple matter of political will to do it. And, of course, as I mentioned, this cost has corresponding benefits. I mentioned there's a multiplier of about three, 2.78, for the state economy, in terms of over 80 billion in extra earnings. And if we want to translate that from just billions of dollars to something that might mean something, what we're talking about is that, for the average low-income kid, that would increase earnings by about 10 percent over their whole career, just doing the preschool, not improving K-12 or anything else after that, not doing anything with college tuition or access, just directly improving preschool, and we would get five percent higher earnings for middle-class kids. So this is an investment that pays off in very concrete terms for a broad range of income groups in the state's population and produces large and tangible benefits. Now, that's one barrier. I actually think the more profound barrier is the long-term nature of the benefits from early childhood programs. So the argument I'm making is, is that we're increasing the quality of our local workforce, and thereby increasing economic development. Obviously if we have a preschool with four-year-olds, we're not sending these kids out at age five to work in the sweatshops, right? At least I hope not. So we're talking about an investment that in terms of impacts on the state economy is not going to really pay off for 15 or 20 years, and of course America is notorious for being a short term-oriented society. Now one response you can make to this, and I sometimes have done this in talks, is people can talk about, there are benefits for these programs in reducing special ed and remedial education costs, there are benefits, parents care about preschool, maybe we'll get some migration effects from parents seeking good preschool, and I think those are true, but in some sense they're missing the point. Ultimately, this is something we're investing in now for the future. And so what I want to leave you with is what I think is the ultimate question. I mean, I'm an economist, but this is ultimately not an economic question, it's a moral question: Are we willing, as Americans, are we as a society still capable of making the political choice to sacrifice now by paying more taxes in order to improve the long-term future of not only our kids, but our community? Are we still capable of that as a country? And that's something that each and every citizen and voter needs to ask themselves. Is that something that you are still invested in, that you still believe in the notion of investment? That is the notion of investment. You sacrifice now for a return later. So I think the research evidence on the benefits of early childhood programs for the local economy is extremely strong. However, the moral and political choice is still up to us, as citizens and as voters. Thank you very much. (Applause)\n"
     ]
    }
   ],
   "source": [
    "doc_id2 = lookup_doc_id2# index of document to explore\n",
    "print(re.sub('\\s+', ' ', document_list[doc_id2])) "
   ]
  },
  {
   "cell_type": "markdown",
   "metadata": {},
   "source": [
    "## Output the distribution of topics for the document\n",
    "\n",
    "The next cell outputs the distribution of topics on the document specified above."
   ]
  },
  {
   "cell_type": "code",
   "execution_count": 18,
   "metadata": {},
   "outputs": [
    {
     "name": "stdout",
     "output_type": "stream",
     "text": [
      "0.31 34 ['money', 'dollars', 'business', 'companies', 'company', 'market', 'buy', 'pay', 'industry', 'cost', 'jobs', 'economy', 'percent', 'product', 'financial', 'sell', 'economic', 'million', 'costs', 'price']\n",
      "0.20 7 ['school', 'kids', 'students', 'education', 'learning', 'learn', 'high', 'children', 'schools', 'class', 'teachers', 'teach', 'student', 'college', 'teacher', 'young', 'university', 'teaching', 'kid', 'skills']\n",
      "0.16 0 ['social', 'question', 'study', 'choice', 'behavior', 'group', 'human', 'reason', 'answer', 'wrong', 'research', 'society', 'choices', 'decisions', 'questions', 'asked', 'makes', 'bad', 'moral', 'evidence']\n",
      "0.06 33 ['countries', 'africa', 'country', 'china', 'india', 'global', 'growth', 'economic', 'poverty', 'african', 'states', 'chinese', 'population', 'poor', 'united', 'percent', 'development', 'billion', 'south', 'income']\n",
      "0.05 5 ['percent', 'number', 'million', '10', '1', '2', 'times', '100', 'half', '30', '20', 'numbers', '50', '3', '15', '5', 'ago', 'average', '40', 'answer']\n",
      "0.03 32 ['city', 'building', 'cities', 'design', 'community', 'built', 'house', 'place', 'buildings', 'build', 'live', 'places', 'public', 'home', 'architecture', 'york', 'street', 'urban', 'local', 'spaces']\n",
      "0.03 1 ['change', 'working', 'team', 'idea', 'community', 'create', 'ideas', 'start', 'important', 'success', 'problems', 'process', 'organization', 'build', 'business', 'trust', 'impact', 'social', 'leaders', 'support']\n",
      "0.03 6 ['political', 'government', 'power', 'country', 'change', 'democracy', 'public', 'states', 'president', 'politics', 'united', 'citizens', 'national', 'state', 'america', 'vote', 'rights', 'society', 'media', 'election']\n",
      "0.02 25 ['talk', 'bit', 'idea', 'sort', 'stuff', 'problem', 'big', 'start', 'pretty', 'interesting', 'thinking', 'talking', 'thought', 'basically', 'important', 'point', 'happen', 'happened', 'couple', 'lots']\n"
     ]
    }
   ],
   "source": [
    "document_topics = gensimmodel_list[3].get_document_topics(doc_term_matrix[doc_id2]) # substitute other models here\n",
    "document_topics = sorted(document_topics, key=lambda x: x[1], reverse=True) # sorts document topics\n",
    "\n",
    "for topic, prop in document_topics:\n",
    "    topic_words = [word[0] for word in gensimmodel_list[3].show_topic(topic, 20)]\n",
    "    print (\"%.2f\" % prop, topic, topic_words)"
   ]
  },
  {
   "cell_type": "markdown",
   "metadata": {},
   "source": [
    "## Find similar documents\n",
    "This will find the 5 most similar documents to the document specified above based on their topic distribution. The MatrixSimilarity() method uses cosine similarity to measure how similar the document specified by `docid` is to all other documents for that model. There are better measures, but this one is quick and simple to implement."
   ]
  },
  {
   "cell_type": "code",
   "execution_count": 50,
   "metadata": {},
   "outputs": [
    {
     "name": "stdout",
     "output_type": "stream",
     "text": [
      "Document Index:  1344\n",
      "Similarity Score 0.23183876\n",
      "I'm the product of a bold leadership decision. After 1956, when Tunisia became independent, our first president, Habib Bourguiba, decided to invest 20 percent of the country's national budget in education. Yes, 20 percent, on the high end of the spectrum even by today's standards. Some people protested. What about infrastructure? What about electricity, roads and running water? Are these not important? I would argue that the most important infrastructure we have are minds, educated minds. President Bourguiba helped establish free, high-quality education for every boy and every girl. And together with millions of other Tunisians, I'm deeply indebted to that historic decision. And that's wha ...\n",
      "0.32 12 ['school', 'kids', 'students', 'education', 'learning', 'high', 'learn', 'schools', 'teach', 'class', 'teachers', 'college', 'teacher', 'student', 'young', 'children', 'university', 'skills', 'teaching', 'learned']\n",
      "0.20 30 ['countries', 'africa', 'country', 'china', 'india', 'global', 'growth', 'economic', 'african', 'poor', 'poverty', 'chinese', 'united', 'states', 'europe', 'population', 'income', 'aid', 'economy', 'south']\n",
      "0.10 0 ['percent', 'million', '10', '20', 'dollars', '100', 'number', '30', '1', '50', 'times', 'half', 'billion', '15', 'average', 'ago', '2', '40', 'problem', '25']\n",
      "0.09 18 ['system', 'change', 'problems', 'problem', 'systems', 'create', 'important', 'process', 'working', 'social', 'ways', 'simply', 'challenge', 'key', 'resources', 'challenges', 'access', 'ability', 'based', 'approach']\n",
      "0.06 28 ['money', 'business', 'company', 'companies', 'dollars', 'market', 'buy', 'pay', 'jobs', 'economy', 'financial', 'economic', 'product', 'industry', 'innovation', 'businesses', 'sell', 'create', 'organizations', 'start']\n",
      "0.05 34 ['war', 'political', 'country', 'power', 'government', 'states', 'democracy', 'united', 'politics', 'american', 'military', 'president', 'security', 'change', 'state', 'rights', 'conflict', 'civil', 'vote', 'peace']\n",
      "0.02 8 ['health', 'disease', 'care', 'patients', 'medical', 'drug', 'drugs', 'treatment', 'doctors', 'patient', 'doctor', 'cancer', 'hospital', 'medicine', 'hiv', 'diseases', 'heart', 'risk', 'healthy', 'research']\n",
      "0.02 11 ['internet', 'information', 'media', 'online', 'phone', 'google', 'open', 'web', 'facebook', 'social', 'network', 'content', 'share', 'technology', 'twitter', 'digital', 'mobile', 'data', 'free', 'website']\n",
      "0.01 31 ['history', 'century', 'culture', 'ancient', 'age', 'modern', 'past', 'story', 'began', 'ago', 'war', '20th', 'early', 'king', 'centuries', 'future', 'europe', 'ants', 'collective', 'cultural']\n",
      "0.01 14 ['children', 'family', 'child', 'mother', 'parents', 'young', 'baby', 'born', 'home', 'care', 'age', 'lives', 'kids', 'families', 'mom', 'girl', 'father', 'babies', 'birth', 'woman']\n",
      "0.01 13 ['technology', 'car', 'human', 'future', 'robot', 'cars', 'robots', 'machine', 'intelligence', 'machines', 'driving', 'power', 'drive', 'build', 'ai', 'technologies', 'artificial', 'humans', 'problem', 'system']\n",
      "\n",
      "Document Index:  1086\n",
      "Similarity Score 0.2315515\n",
      "This is about a hidden corner of the labor market. It's the world of people who need to work ultra-flexibly, if they're to work at all. So think, for instance, of someone who has a recurring but unpredictable medical condition, or somebody who's caring for a dependent adult, or a parent with complex child care needs. Their availability for work can be such that it's, \"A few hours today. Maybe I can work tomorrow, but I don't know if and when yet.\" And it's extraordinarily difficult for these people to find the work that they so often need very badly. Which is a tragedy because there are employers who can use pools of very flexible local people booked completely ad hoc around when that person ...\n",
      "0.35 28 ['money', 'business', 'company', 'companies', 'dollars', 'market', 'buy', 'pay', 'jobs', 'economy', 'financial', 'economic', 'product', 'industry', 'innovation', 'businesses', 'sell', 'create', 'organizations', 'start']\n",
      "0.07 18 ['system', 'change', 'problems', 'problem', 'systems', 'create', 'important', 'process', 'working', 'social', 'ways', 'simply', 'challenge', 'key', 'resources', 'challenges', 'access', 'ability', 'based', 'approach']\n",
      "0.07 11 ['internet', 'information', 'media', 'online', 'phone', 'google', 'open', 'web', 'facebook', 'social', 'network', 'content', 'share', 'technology', 'twitter', 'digital', 'mobile', 'data', 'free', 'website']\n",
      "0.05 0 ['percent', 'million', '10', '20', 'dollars', '100', 'number', '30', '1', '50', 'times', 'half', 'billion', '15', 'average', 'ago', '2', '40', 'problem', '25']\n",
      "0.05 30 ['countries', 'africa', 'country', 'china', 'india', 'global', 'growth', 'economic', 'african', 'poor', 'poverty', 'chinese', 'united', 'states', 'europe', 'population', 'income', 'aid', 'economy', 'south']\n",
      "0.04 26 ['city', 'cities', 'community', 'live', 'place', 'public', 'york', 'places', 'building', 'street', 'home', 'house', 'communities', 'local', 'urban', 'built', 'build', 'neighborhood', 'park', 'center']\n",
      "0.04 1 ['number', 'room', 'left', 'line', 'hand', 'box', 'answer', 'red', 'blue', '2', 'start', 'green', '1', 'person', 'eyes', 'bit', 'paper', 'turn', 'numbers', 'wait']\n",
      "0.04 24 ['brain', 'sleep', 'brains', 'memory', 'neurons', 'activity', 'dog', 'consciousness', 'behavior', 'control', 'body', 'normal', 'information', 'mind', 'visual', 'human', 'understand', 'dogs', 'signals', 'light']\n",
      "0.03 13 ['technology', 'car', 'human', 'future', 'robot', 'cars', 'robots', 'machine', 'intelligence', 'machines', 'driving', 'power', 'drive', 'build', 'ai', 'technologies', 'artificial', 'humans', 'problem', 'system']\n",
      "0.03 10 ['question', 'science', 'questions', 'answer', 'wrong', 'study', 'research', 'problem', 'asked', 'evidence', 'understand', 'choice', 'case', 'important', 'group', 'true', 'reason', 'thinking', 'decisions', 'knowledge']\n",
      "0.02 25 ['hard', 'job', 'bad', 'feel', 'person', 'wrong', 'trust', 'career', 'rules', 'makes', 'call', 'afraid', 'fear', 'live', 'easy', 'means', 'hate', 'truth', 'matter', 'perfect']\n",
      "0.02 20 ['data', 'computer', 'information', 'technology', 'machine', 'computers', 'system', 'device', 'digital', 'code', 'software', 'show', 'understand', 'lab', 'devices', 'human', 'start', 'build', 'built', 'simple']\n",
      "0.02 34 ['war', 'political', 'country', 'power', 'government', 'states', 'democracy', 'united', 'politics', 'american', 'military', 'president', 'security', 'change', 'state', 'rights', 'conflict', 'civil', 'vote', 'peace']\n",
      "0.02 9 ['talk', 'sort', 'bit', 'idea', 'stuff', 'big', 'start', 'thought', 'interesting', 'pretty', 'guy', 'talking', 'thinking', 'basically', 'started', 'important', 'couple', 'problem', 'yeah', 'show']\n",
      "0.02 5 ['wanted', 'started', 'thought', 'told', 'knew', 'home', 'felt', 'asked', 'night', 'story', 'man', 'days', 'remember', 'met', 'decided', 'learned', 'realized', 'months', 'began', 'found']\n",
      "0.01 14 ['children', 'family', 'child', 'mother', 'parents', 'young', 'baby', 'born', 'home', 'care', 'age', 'lives', 'kids', 'families', 'mom', 'girl', 'father', 'babies', 'birth', 'woman']\n",
      "0.01 4 ['design', 'building', 'create', 'build', 'project', 'material', 'architecture', 'idea', 'built', 'materials', 'process', 'designed', 'form', 'working', 'making', 'structure', 'buildings', 'designers', 'parts', 'shape']\n",
      "0.01 33 ['feet', 'fly', 'air', 'foot', 'legs', 'move', 'side', 'flying', 'ground', 'mountain', 'hand', 'body', 'flight', 'walk', 'head', 'bridge', 'miles', 'run', 'running', 'half']\n",
      "\n",
      "Document Index:  2786\n",
      "Similarity Score 0.22971722\n",
      "Thank you very much. I moved to America 12 years ago with my wife Terry and our two kids. Actually, truthfully, we moved to Los Angeles — (Laughter) thinking we were moving to America, but anyway — (Laughter) It's a short plane ride from Los Angeles to America. (Laughter) I got here 12 years ago, and when I got here, I was told various things, like, \"Americans don't get irony.\" (Laughter) Have you come across this idea? It's not true. I've traveled the whole length and breadth of this country. I have found no evidence that Americans don't get irony. It's one of those cultural myths, like, \"The British are reserved.\" (Laughter) I don't know why people think this. We've invaded ever ...\n",
      "0.30 12 ['school', 'kids', 'students', 'education', 'learning', 'high', 'learn', 'schools', 'teach', 'class', 'teachers', 'college', 'teacher', 'student', 'young', 'children', 'university', 'skills', 'teaching', 'learned']\n",
      "0.10 18 ['system', 'change', 'problems', 'problem', 'systems', 'create', 'important', 'process', 'working', 'social', 'ways', 'simply', 'challenge', 'key', 'resources', 'challenges', 'access', 'ability', 'based', 'approach']\n",
      "0.05 30 ['countries', 'africa', 'country', 'china', 'india', 'global', 'growth', 'economic', 'african', 'poor', 'poverty', 'chinese', 'united', 'states', 'europe', 'population', 'income', 'aid', 'economy', 'south']\n",
      "0.05 3 ['god', 'human', 'death', 'man', 'live', 'compassion', 'heart', 'dead', 'religion', 'die', 'faith', 'religious', 'truth', 'hope', 'beings', 'lives', 'humanity', 'story', 'end', 'sense']\n",
      "0.04 0 ['percent', 'million', '10', '20', 'dollars', '100', 'number', '30', '1', '50', 'times', 'half', 'billion', '15', 'average', 'ago', '2', '40', 'problem', '25']\n",
      "0.04 9 ['talk', 'sort', 'bit', 'idea', 'stuff', 'big', 'start', 'thought', 'interesting', 'pretty', 'guy', 'talking', 'thinking', 'basically', 'started', 'important', 'couple', 'problem', 'yeah', 'show']\n",
      "0.03 10 ['question', 'science', 'questions', 'answer', 'wrong', 'study', 'research', 'problem', 'asked', 'evidence', 'understand', 'choice', 'case', 'important', 'group', 'true', 'reason', 'thinking', 'decisions', 'knowledge']\n",
      "0.03 13 ['technology', 'car', 'human', 'future', 'robot', 'cars', 'robots', 'machine', 'intelligence', 'machines', 'driving', 'power', 'drive', 'build', 'ai', 'technologies', 'artificial', 'humans', 'problem', 'system']\n",
      "0.03 24 ['brain', 'sleep', 'brains', 'memory', 'neurons', 'activity', 'dog', 'consciousness', 'behavior', 'control', 'body', 'normal', 'information', 'mind', 'visual', 'human', 'understand', 'dogs', 'signals', 'light']\n",
      "0.02 26 ['city', 'cities', 'community', 'live', 'place', 'public', 'york', 'places', 'building', 'street', 'home', 'house', 'communities', 'local', 'urban', 'built', 'build', 'neighborhood', 'park', 'center']\n",
      "0.02 8 ['health', 'disease', 'care', 'patients', 'medical', 'drug', 'drugs', 'treatment', 'doctors', 'patient', 'doctor', 'cancer', 'hospital', 'medicine', 'hiv', 'diseases', 'heart', 'risk', 'healthy', 'research']\n",
      "0.02 28 ['money', 'business', 'company', 'companies', 'dollars', 'market', 'buy', 'pay', 'jobs', 'economy', 'financial', 'economic', 'product', 'industry', 'innovation', 'businesses', 'sell', 'create', 'organizations', 'start']\n",
      "0.02 31 ['history', 'century', 'culture', 'ancient', 'age', 'modern', 'past', 'story', 'began', 'ago', 'war', '20th', 'early', 'king', 'centuries', 'future', 'europe', 'ants', 'collective', 'cultural']\n",
      "0.02 14 ['children', 'family', 'child', 'mother', 'parents', 'young', 'baby', 'born', 'home', 'care', 'age', 'lives', 'kids', 'families', 'mom', 'girl', 'father', 'babies', 'birth', 'woman']\n",
      "0.02 23 ['feel', 'experience', 'feeling', 'social', 'person', 'mind', 'moment', 'relationship', 'happiness', 'attention', 'happy', 'lives', 'talk', 'emotional', 'thinking', 'friends', 'relationships', 'emotions', 'understand', 'experiences']\n",
      "0.02 20 ['data', 'computer', 'information', 'technology', 'machine', 'computers', 'system', 'device', 'digital', 'code', 'software', 'show', 'understand', 'lab', 'devices', 'human', 'start', 'build', 'built', 'simple']\n",
      "0.02 15 ['food', 'eat', 'plant', 'plants', 'grow', 'feed', 'eating', 'farmers', 'bees', 'sugar', 'farm', 'meat', 'diet', 'growing', 'agriculture', 'bread', 'soil', 'insects', 'small', 'healthy']\n",
      "0.02 29 ['language', 'book', 'words', 'read', 'word', 'write', 'books', 'english', 'writing', 'reading', 'written', 'wrote', 'speak', 'thought', 'languages', 'speaking', 'letters', 'paper', 'letter', 'found']\n",
      "0.02 25 ['hard', 'job', 'bad', 'feel', 'person', 'wrong', 'trust', 'career', 'rules', 'makes', 'call', 'afraid', 'fear', 'live', 'easy', 'means', 'hate', 'truth', 'matter', 'perfect']\n",
      "0.02 17 ['water', 'ocean', 'fish', 'sea', 'ice', 'animals', 'species', 'forest', 'deep', 'trees', 'places', 'surface', 'place', 'oceans', 'river', 'north', 'planet', 'live', 'high', 'area']\n",
      "0.01 4 ['design', 'building', 'create', 'build', 'project', 'material', 'architecture', 'idea', 'built', 'materials', 'process', 'designed', 'form', 'working', 'making', 'structure', 'buildings', 'designers', 'parts', 'shape']\n",
      "0.01 33 ['feet', 'fly', 'air', 'foot', 'legs', 'move', 'side', 'flying', 'ground', 'mountain', 'hand', 'body', 'flight', 'walk', 'head', 'bridge', 'miles', 'run', 'running', 'half']\n",
      "0.01 34 ['war', 'political', 'country', 'power', 'government', 'states', 'democracy', 'united', 'politics', 'american', 'military', 'president', 'security', 'change', 'state', 'rights', 'conflict', 'civil', 'vote', 'peace']\n",
      "0.01 27 ['women', 'men', 'black', 'woman', 'girls', 'sex', 'white', 'violence', 'man', 'gender', 'justice', 'young', 'police', 'law', 'sexual', 'female', 'talk', 'prison', 'rights', 'male']\n",
      "0.01 5 ['wanted', 'started', 'thought', 'told', 'knew', 'home', 'felt', 'asked', 'night', 'story', 'man', 'days', 'remember', 'met', 'decided', 'learned', 'realized', 'months', 'began', 'found']\n",
      "\n"
     ]
    }
   ],
   "source": [
    "model_doc_topics = gensimmodel_list[3].get_document_topics(doc_term_matrix) # substitute other models here\n",
    "lda_index = similarities.MatrixSimilarity(model_doc_topics.corpus)\n",
    "    \n",
    "# query for our doc_id from above\n",
    "similarity_index = lda_index[doc_term_matrix[doc_id2]]\n",
    "# Sort the similarity index\n",
    "similarity_index = sorted(enumerate(similarity_index), key=lambda item: -item[1])\n",
    "\n",
    "for i in range(7,10): \n",
    "    document_id, similarity_score = similarity_index[i]\n",
    "    print('Document Index: ',document_id)\n",
    "    print('Similarity Score',similarity_score)\n",
    "    print(re.sub('\\s+', ' ', document_list[document_id][:700]), '...') # preview first 500 characters\n",
    "    \n",
    "    document_topics2 = gensimmodel_list[3].get_document_topics(doc_term_matrix[document_id])\n",
    "    document_topics2 = sorted(document_topics2, key=lambda x: x[1], reverse=True)\n",
    "    for topic, prop in document_topics2:\n",
    "        topic_words = [word[0] for word in gensimmodel_list[3].show_topic(topic, 20)]\n",
    "        print (\"%.2f\" % prop, topic, topic_words)\n",
    "    \n",
    "    print()"
   ]
  },
  {
   "cell_type": "code",
   "execution_count": null,
   "metadata": {},
   "outputs": [],
   "source": []
  }
 ],
 "metadata": {
  "kernelspec": {
   "display_name": "Python 3",
   "language": "python",
   "name": "python3"
  },
  "language_info": {
   "codemirror_mode": {
    "name": "ipython",
    "version": 3
   },
   "file_extension": ".py",
   "mimetype": "text/x-python",
   "name": "python",
   "nbconvert_exporter": "python",
   "pygments_lexer": "ipython3",
   "version": "3.7.4"
  }
 },
 "nbformat": 4,
 "nbformat_minor": 2
}
